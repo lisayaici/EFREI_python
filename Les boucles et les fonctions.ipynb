{
 "cells": [
  {
   "cell_type": "markdown",
   "id": "40da3ed8",
   "metadata": {},
   "source": [
    "# Les boucles"
   ]
  },
  {
   "cell_type": "markdown",
   "id": "2cc7a763",
   "metadata": {},
   "source": [
    "## Exercice 1"
   ]
  },
  {
   "cell_type": "code",
   "execution_count": 3,
   "id": "7e54cc95",
   "metadata": {},
   "outputs": [
    {
     "name": "stdout",
     "output_type": "stream",
     "text": [
      "La table de multiplication de 1 est : [1, 2, 3, 4, 5, 6, 7, 8, 9, 10]\n"
     ]
    }
   ],
   "source": [
    "table_1 = [1 * i for i in range (1,11)]\n",
    "table_2 = [2 * i for i in range (1,11)]\n",
    "table_3 = [3 * i for i in range (1,11)]\n",
    "table_5 = [5 * i for i in range (1,11)]\n",
    "table_8 = [8 * i for i in range (1,11)]\n",
    "\n",
    "print(\"La table de multiplication de 1 est :\", table_1)\n",
    "print(\"La table de multiplication de 2 est :\", table_2)\n",
    "print(\"La table de multiplication de 3 est :\", table_3)\n",
    "print(\"La table de multiplication de 5 est :\", table_5)\n",
    "print(\"La table de multiplication de 8 est :\", table_8)"
   ]
  },
  {
   "cell_type": "code",
   "execution_count": 20,
   "id": "ad282ab0",
   "metadata": {},
   "outputs": [
    {
     "data": {
      "text/plain": [
       "[[0, 1, 2, 3, 4, 5, 6, 7, 8, 9, 10],\n",
       " [0, 2, 4, 6, 8, 10, 12, 14, 16, 18, 20],\n",
       " [0, 3, 6, 9, 12, 15, 18, 21, 24, 27, 30],\n",
       " [0, 5, 10, 15, 20, 25, 30, 35, 40, 45, 50],\n",
       " [0, 8, 16, 24, 32, 40, 48, 56, 64, 72, 80]]"
      ]
     },
     "execution_count": 20,
     "metadata": {},
     "output_type": "execute_result"
    }
   ],
   "source": [
    "liste = [1, 2, 3 ,5, 8]\n",
    "\n",
    "def myfunc(a):\n",
    "  return [a * i for i in range(11)]\n",
    "\n",
    "list(map(myfunc, liste))"
   ]
  },
  {
   "cell_type": "markdown",
   "id": "757988ac",
   "metadata": {},
   "source": [
    "## Exercice 2"
   ]
  },
  {
   "cell_type": "code",
   "execution_count": 12,
   "id": "f62eaa54",
   "metadata": {},
   "outputs": [
    {
     "name": "stdout",
     "output_type": "stream",
     "text": [
      "Resultat de la table: ['5', '10', '15', '20', '25', '30', '35', '40', '45', '50']\n"
     ]
    }
   ],
   "source": [
    "number = [1,2,3,4,5,6,7,8,9,10]\n",
    "number_list = []\n",
    "for nbr_str in number:\n",
    "    result = str(int(nbr_str) * 5)\n",
    "    number_list.append(result)\n",
    "print(\"Resultat de la table:\", number_list)"
   ]
  },
  {
   "cell_type": "markdown",
   "id": "122b87d8",
   "metadata": {},
   "source": [
    "## Exercice 3"
   ]
  },
  {
   "cell_type": "code",
   "execution_count": 21,
   "id": "e2765708",
   "metadata": {},
   "outputs": [
    {
     "name": "stdout",
     "output_type": "stream",
     "text": [
      "5 x 0 = 0\n",
      "5 x 1 = 5\n",
      "5 x 2 = 10\n",
      "5 x 3 = 15\n",
      "5 x 4 = 20\n",
      "5 x 5 = 25\n",
      "5 x 6 = 30\n",
      "5 x 7 = 35\n",
      "5 x 8 = 40\n",
      "5 x 9 = 45\n",
      "5 x 10 = 50\n"
     ]
    }
   ],
   "source": [
    "max = 10\n",
    "i = 0\n",
    "table_cinq = []\n",
    "while True:\n",
    "    print(f\"5 x {str(i)} = {str(5 * i)}\")\n",
    "    i += 1\n",
    "    if i > max:\n",
    "        break"
   ]
  },
  {
   "cell_type": "markdown",
   "id": "57e4f59e",
   "metadata": {},
   "source": [
    "## Exercice 4"
   ]
  },
  {
   "cell_type": "code",
   "execution_count": 19,
   "id": "80a28d53",
   "metadata": {},
   "outputs": [
    {
     "name": "stdout",
     "output_type": "stream",
     "text": [
      "74046\n"
     ]
    }
   ],
   "source": [
    "objet = {\"a\": 42, \"b\": 42, \"c\": 42, \"d\": 42}\n",
    "accumulateur = 1\n",
    "for key, value in objet.items():\n",
    "    if key != \"d\":\n",
    "        accumulateur *= value\n",
    "    else:\n",
    "        accumulateur -= value\n",
    "\n",
    "print(accumulateur)  "
   ]
  },
  {
   "cell_type": "markdown",
   "id": "8a8114a2",
   "metadata": {},
   "source": [
    "## Exercice 5"
   ]
  },
  {
   "cell_type": "code",
   "execution_count": 17,
   "id": "6b4c7e39",
   "metadata": {},
   "outputs": [
    {
     "name": "stdout",
     "output_type": "stream",
     "text": [
      "x xx xxx xxxx xxxxx\n"
     ]
    }
   ],
   "source": [
    "print(' '.join(list(map(lambda x :x * \"x\" , range(1,6)))))"
   ]
  },
  {
   "cell_type": "markdown",
   "id": "1427ed8c",
   "metadata": {},
   "source": [
    "## Exercice 6"
   ]
  },
  {
   "cell_type": "code",
   "execution_count": 18,
   "id": "2cc668f1",
   "metadata": {},
   "outputs": [
    {
     "name": "stdout",
     "output_type": "stream",
     "text": [
      "[1, 2, 3, 4, 5]\n"
     ]
    }
   ],
   "source": [
    "def tri_bulles(nbr):\n",
    "    n = len(nbr)\n",
    "    for i in range(n - 1):\n",
    "        for j in range(0, n - i - 1):\n",
    "            if nbr[j] > nbr[j + 1]:\n",
    "                nbr[j], nbr[j + 1] = nbr[j + 1], nbr[j]\n",
    "\n",
    "nbr = [5, 4, 3, 2, 1]\n",
    "tri_bulles(nbr)\n",
    "print(nbr)"
   ]
  },
  {
   "cell_type": "markdown",
   "id": "7b4211dd",
   "metadata": {},
   "source": [
    "# Les fonctions"
   ]
  },
  {
   "cell_type": "markdown",
   "id": "5fd14920",
   "metadata": {},
   "source": [
    "## Exo 1"
   ]
  },
  {
   "cell_type": "code",
   "execution_count": 23,
   "id": "1c09d718",
   "metadata": {},
   "outputs": [],
   "source": [
    "def myPutStr(value):\n",
    "    if isinstance(value, (int, float)):\n",
    "        return \"et pourquoi pas 42 ?\"\n",
    "    else:\n",
    "        return str(value)"
   ]
  },
  {
   "cell_type": "code",
   "execution_count": 25,
   "id": "33581743",
   "metadata": {},
   "outputs": [
    {
     "name": "stdout",
     "output_type": "stream",
     "text": [
      "et pourquoi pas 42 ?\n",
      "Bonjour\n"
     ]
    }
   ],
   "source": [
    "print(myPutStr(5))  \n",
    "print(myPutStr(\"Bonjour\"))  "
   ]
  },
  {
   "cell_type": "markdown",
   "id": "d68061ed",
   "metadata": {},
   "source": [
    "## Exo 2"
   ]
  },
  {
   "cell_type": "code",
   "execution_count": 35,
   "id": "6882735f",
   "metadata": {},
   "outputs": [],
   "source": [
    "def computeSurfaceM2(longueur, largeur):\n",
    "    surface = longueur * largeur\n",
    "    return f\"Votre surface est de {surface} m2\""
   ]
  },
  {
   "cell_type": "code",
   "execution_count": 36,
   "id": "990f8327",
   "metadata": {},
   "outputs": [
    {
     "name": "stdout",
     "output_type": "stream",
     "text": [
      "Votre surface est de 200 m2\n"
     ]
    }
   ],
   "source": [
    "longueur = 10\n",
    "largeur = 20\n",
    "print(computeSurfaceM2(longueur, largeur))"
   ]
  },
  {
   "cell_type": "markdown",
   "id": "db8582d6",
   "metadata": {},
   "source": [
    "## Exo 3"
   ]
  },
  {
   "cell_type": "code",
   "execution_count": 27,
   "id": "ce7a96f7",
   "metadata": {},
   "outputs": [],
   "source": [
    "def detectMyAgeByNight():\n",
    "    age = int(input(\"Veuillez entrer votre âge : \"))\n",
    "    if age >= 18:\n",
    "        print(f\"Vous pouvez entrer vous êtes majeur, vous avez {age} ans.\")\n",
    "    else:\n",
    "        print(f\"Vous ne pouvez pas entrer, vous n’êtes pas majeur, vous avez {age} ans.\")"
   ]
  },
  {
   "cell_type": "code",
   "execution_count": 29,
   "id": "35f7d911",
   "metadata": {},
   "outputs": [
    {
     "name": "stdout",
     "output_type": "stream",
     "text": [
      "Veuillez entrer votre âge : 19\n",
      "Vous pouvez entrer vous êtes majeur, vous avez 19 ans.\n"
     ]
    }
   ],
   "source": [
    "detectMyAgeByNight()"
   ]
  },
  {
   "cell_type": "code",
   "execution_count": 30,
   "id": "bd6a90db",
   "metadata": {},
   "outputs": [
    {
     "name": "stdout",
     "output_type": "stream",
     "text": [
      "Veuillez entrer votre âge : 12\n",
      "Vous ne pouvez pas entrer, vous n’êtes pas majeur, vous avez 12 ans.\n"
     ]
    }
   ],
   "source": [
    "detectMyAgeByNight()"
   ]
  },
  {
   "cell_type": "markdown",
   "id": "4b86fbc3",
   "metadata": {},
   "source": [
    "## Exo 4"
   ]
  },
  {
   "cell_type": "code",
   "execution_count": null,
   "id": "ca282211",
   "metadata": {},
   "outputs": [],
   "source": [
    "def tableGenerator(): "
   ]
  },
  {
   "cell_type": "markdown",
   "id": "28f8feac",
   "metadata": {},
   "source": [
    "## Exo 5"
   ]
  },
  {
   "cell_type": "code",
   "execution_count": 37,
   "id": "ca84d4ec",
   "metadata": {},
   "outputs": [],
   "source": [
    "import time\n",
    "\n",
    "def digitalClock():\n",
    "    try:\n",
    "        while True:\n",
    "            current_time = time.strftime('%H:%M:%S')\n",
    "            print(current_time, end='\\r')  \n",
    "            time.sleep(1)\n",
    "    except KeyboardInterrupt:\n",
    "        print(\"\\nHorloge arrêtée.\")"
   ]
  },
  {
   "cell_type": "markdown",
   "id": "6a05c55f",
   "metadata": {},
   "source": [
    "## Exo 6"
   ]
  },
  {
   "cell_type": "code",
   "execution_count": 41,
   "id": "c2be616e",
   "metadata": {},
   "outputs": [
    {
     "name": "stdout",
     "output_type": "stream",
     "text": [
      "False\n"
     ]
    }
   ],
   "source": [
    "def is_palindrome(chaine): # Un palindrome\n",
    "    chaine_nettoye = ''.join(chaine.split()).lower()\n",
    "    return chaine_nettoye == chaine_nettoye[::-1]\n",
    "\n",
    "print(is_palindrome(\"Bonjour je m'appelle Lysa\")) "
   ]
  },
  {
   "cell_type": "markdown",
   "id": "d73f6796",
   "metadata": {},
   "source": [
    "## Exo 7"
   ]
  },
  {
   "cell_type": "code",
   "execution_count": null,
   "id": "05bc5fff",
   "metadata": {},
   "outputs": [],
   "source": []
  },
  {
   "cell_type": "markdown",
   "id": "352382c1",
   "metadata": {},
   "source": [
    "## Exo 8"
   ]
  },
  {
   "cell_type": "code",
   "execution_count": null,
   "id": "7edb9290",
   "metadata": {},
   "outputs": [],
   "source": []
  },
  {
   "cell_type": "markdown",
   "id": "f2b2e384",
   "metadata": {},
   "source": [
    "## Exo 9"
   ]
  },
  {
   "cell_type": "code",
   "execution_count": null,
   "id": "d7de21ca",
   "metadata": {},
   "outputs": [],
   "source": []
  }
 ],
 "metadata": {
  "kernelspec": {
   "display_name": "Python 3 (ipykernel)",
   "language": "python",
   "name": "python3"
  },
  "language_info": {
   "codemirror_mode": {
    "name": "ipython",
    "version": 3
   },
   "file_extension": ".py",
   "mimetype": "text/x-python",
   "name": "python",
   "nbconvert_exporter": "python",
   "pygments_lexer": "ipython3",
   "version": "3.9.7"
  }
 },
 "nbformat": 4,
 "nbformat_minor": 5
}
